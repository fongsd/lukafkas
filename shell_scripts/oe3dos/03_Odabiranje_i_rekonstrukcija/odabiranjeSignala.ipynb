{
 "cells": [
  {
   "cell_type": "markdown",
   "metadata": {},
   "source": [
    "# Odabiranje i rekonstrukcija signala\n",
    "\n",
    "[<span style=\"font-size:1.2em;\"><b>Digitalna obrada signala</b></span>](http://tnt.etf.rs/~oe3dos)<span style=\"font-size:1.2em;\">, Vladimir Petrović</span>\n",
    "\n",
    "Ovaj _notebook_ će predstaviti osnovne koncepte potrebne za razumevanje digitalizacije signala. Najpre ćemo pojasniti matematički formalizam koji će poslužiti za razumevanje odabiranja signala, definisanje teoreme o odabiranju i, kasnije, za rekonstrukciju signala iz diskretnog signala. Naučićemo pojmove analogno-digitalne i digitalno-analogne konverzije i videti kako se digitalni sistem može koristiti u obradi analognog signala. "
   ]
  },
  {
   "cell_type": "code",
   "execution_count": null,
   "metadata": {},
   "outputs": [],
   "source": [
    "# Set to False only if a HTML or PDF is generated\n",
    "USE_WIDGETS = True"
   ]
  },
  {
   "cell_type": "markdown",
   "metadata": {},
   "source": [
    "## Odabiranje\n",
    "\n",
    "### Idealno odabiranje i A/D konverzija\n",
    "Zamislimo proizvoljan analogni, kontinualni signal $ x(t) $ kao na slici.\n",
    "\n",
    "<center><img src=\"images/x.svg\" /></center>\n",
    "\n",
    "Matematički, odabiranje signala i teorema o odabiranju se može pokazati preko odabiranja povorkom Dirakovih impulsa (Dirakov češalj, engl. _Dirac Comb_) čiji je izraz:\n",
    "\n",
    "$$\n",
    "s(t) =  \\sum\\limits_{n=-\\infty}^{\\infty}  \\delta(t-nT_s),\n",
    "$$\n",
    "\n",
    "gde je $T_s$ perioda odabiranja signala. Dirakove impulse je u prirodi nemoguće napraviti. Dirakov impuls je signal beskonačno kratkog trajanja, ali beskonačno velike amplitude, pa mu je energija jedinična, ali ovaj signal samo predstavlja matematičku apstrakciju koja je vrlo korisna u analizi analognih signala i sistema.\n",
    "\n",
    "<center><img src=\"images/s.svg\" /></center>\n",
    "\n",
    "Kada se signal koji se diskretizuje ($x(t)$) pomnoži povorkom Dirakovih impulsa dobija se signal $x_s(t)$:\n",
    "\n",
    "$$\n",
    "x_s(t) = x(t) \\sum\\limits_{n=-\\infty}^{\\infty}  \\delta(t-nT_s) = \\sum\\limits_{n=-\\infty}^{\\infty}  x(t)\\delta(t-nT_s).\n",
    "$$\n",
    "\n",
    "S obzirom na to da je $x(t)\\delta(t) = x(0)\\delta(t)$ i da je $x(t)\\delta(t - t_0) = x(t_0)\\delta(t - t_0)$, signal $x_s(t)$ se može zapisati kao:\n",
    "\n",
    "$$\n",
    "x_s(t) = \\sum\\limits_{n=-\\infty}^{\\infty}  x(nT_s)\\delta(t-nT_s).\n",
    "$$\n",
    "\n",
    "Dakle, signal $x_s(t)$ je povorka Dirakovih impulsa $x(nT_s)\\delta(t-nT_s)$\n",
    "\n",
    "<center><img src=\"images/xs.svg\" /></center>\n",
    "\n",
    "Signal $x_s(t)$ je i dalje analogni signal. Diskretni signal $x[n]$ predstavlja niz vrednosti odabiranih u trenucima $nT_s$. S obzirom na to da smo već dobili niz impulsa čije su vrednosti $x(nT_s)\\delta(t-nT_s)$, potrebno je još samo uraditi konverziju iz impulsa u niz brojeva. Na ovaj način se dobija idealna analogno-digitalna konverzija (_analog-to-digital conversion_).\n",
    "\n",
    "<center><img src=\"AD_ideal.svg\" style=\"width: 500px;\"/></center>\n",
    "\n",
    "<center><img src=\"images/xn.svg\" /></center>\n",
    "\n",
    "Odabiranjem korišćenjem manje periode odabiranja, dobija se više odbiraka za isto trajanje signala i obrnuto. Evo primera:\n",
    "\n",
    "<center><img src=\"images/xn2.svg\" /></center>\n",
    "\n",
    "Primetite da se A/D konverzijom dobija niz brojeva kod koga se u potpunosti gubi bilo kakva informacija o vremenu. Odbirci signala su samo vrednosti poređane po istom redosledu po kome su bile i u originalnom analognom signalu. Ovaj redosled je određen indeksima $n$. Dakle, kada jedanput pređemo u digitalni svet, sve što znamo su brojevi i bez dodatne informacije o tome kolika je bila perioda odabiranja, nemamo odrednicu kada su se određeni odbirci desili. \n",
    "\n",
    "S obzirom na to da je nemoguće napraviti Dirakov impuls, nemoguće je napraviti i idealni A/D konvertor. Dodatno, ni jedan digitalni sistem nema beskonačnu tačnost predstave brojeva. To znači da, iako je u analognom svetu moguće da je vrednost signala bilo koji realan broj, digitalni signal mora biti predstavljen uz pomoć konačnog broja bita, tj. konačnom tačnošću. \n",
    "\n",
    "Realan A/D konvertor će vrednost analognog signala neidealno odabrati, a zatim je kvantizovati i kodovati u brojevnom sistemu od interesa. Odabiranje u realnosti najčešće radi takozvano _sample and hold_ kolo (_S/H_). Najjednostavnije _S/H_ kolo se sastoji od prekidača i kondenzatora. Zatvaranjem prekidača, kolo ulazi u stanje odabiranja (_sample_) u kome se kondenzator puni na napon sa ulaza. Idealno je da ovo stanje traje što je kraće moguće kako bi se što bolje emuliralo ponašanje idealnog odabiranja. Međutim, bitno je da _sample_ stanje traje i dovoljno dugo kako bi kondenzator stigao da se napuni preko otpornosti prekidača. Stoga je jasno da $RC$ konstanta treba da bude što je moguće manja. Otvaranjem prekidača, _S/H_ kolo ulazi u stanje zadržavanja vrednosti (_hold_). U toku ovog stanja, sistem za kvantizaciju i kodovanje prevodi napon sa kondenzatora u odgovarajući binarni kod koji predstavlja vrednost napona. Arhitektura ovog bloka prevazilazi opseg ovog kursa i tema je oblasti analogno-digitalne konverzije koja se na ETF-u izučava na predmetima iz digitalne elektronike. O uticaju kvantizacije na same signale će biti više reči na kraju ovog kursa.\n",
    "\n",
    "<center><img src=\"images/AD_real.svg\" style=\"width: 500px;\"/></center>"
   ]
  },
  {
   "cell_type": "markdown",
   "metadata": {},
   "source": [
    "### Analiza spektra odabiranog signala\n",
    "Primer amplitudskog spektra jednog analognog signala je prikazan na sledećoj slici:\n",
    "\n",
    "<center><img src=\"images/X_jw.svg\" /></center>\n",
    "\n",
    "Setite se da je amplitudski spektar modul Furijeove transformacije signala. Spektar sa slike je ograničen što znači da je jednak nuli za učestanosti veće od $\\omega_{max}$. Neka se signal $x(t)$ čiji je spektar prikazan na slici odabira povorkom Dirakovih impulsa čija je perioda $T_s$. Za primer sa slike važi da je $\\omega_{max} < \\omega_s/2$, gde je $\\omega_s/2 = 2\\pi/T_s$.\n",
    "\n",
    "Spektar signala $ x_s (t) $, se dobija Furijeovom transformacijom\n",
    "\n",
    "$$\n",
    "X_s(j \\omega ) = \\mathcal{F} \\left\\lbrace x_s(t) \\right\\rbrace (j \\omega )\n",
    "=\n",
    "\\mathcal{F} \\left\\lbrace x(t) s(t) \\right\\rbrace (j \\omega)\n",
    "=\n",
    "\\frac{1}{2\\pi} X(j \\omega) * S(j \\omega)\n",
    "$$\n",
    "\n",
    "Setite se svojstva Furijeove transformacije da je proizvod u vremenskom domenu, konvolucija u frekvencijskom domenu:\n",
    "\n",
    "$$\n",
    "\\mathcal{F} \\left\\lbrace g(t)h(t)  \\right\\rbrace (j \\omega) = \\frac{1}{2\\pi}\\mathcal{F} \\left\\lbrace g(t)\\right\\rbrace (j \\omega) * \\mathcal{F} \\left\\lbrace h(t)  \\right\\rbrace (j \\omega)\n",
    "$$\n",
    "\n",
    "Spektar signala $x(t)$ smo usvojili da je poznat. Ostaje da izračunamo spektar povorke Dirakovih impulsa. Povorka Dirakovih impulsa\n",
    "\n",
    "$$\n",
    "s(t) =  \\sum\\limits_{n=-\\infty}^{\\infty}  \\delta(t-nT_s) \n",
    "$$\n",
    "\n",
    "je periodična funkcija i može se razviti u Furijeov red\n",
    "\n",
    "$$\n",
    "s(t) =  \\sum\\limits_{k=-\\infty}^{\\infty} c_k e^{j k \\omega_0 t }{,}\n",
    "$$\n",
    "\n",
    "gde se koeficijenti Furijeovog reda dobijaju na sledeći način:\n",
    "\n",
    "\\begin{align*}\n",
    "c_k \n",
    "&= \\frac{1}{T_s}\\int\\limits_{-t_0}^{t_0+T} s(t) e^{-j k \\omega_0 t} d t \n",
    "= \\frac{1}{T_s}\\int\\limits_{-T_s/2}^{T_s/2} s(t) e^{-j k \\omega_0 t} d t  \\\\\n",
    "&= \\frac{1}{T_s}\\int\\limits_{-T_s/2}^{T_s/2} \\delta(t) e^{-j k \\omega_0 t} d t \n",
    "= \\frac{1}{T_s}\\int\\limits_{-T_s/2}^{T_s/2} \\delta(t) e^{-j k \\omega_0 0} d t \\\\\n",
    "&= \\frac{1}{T_s}\\int\\limits_{-T_s/2}^{T_s/2} \\delta(t) d t \n",
    "= \\frac{1}{T_s} {.}\n",
    "\\end{align*}\n",
    "\n",
    "Dakle, povorka Dirakovih impulsa se može napisati na sledeći način:\n",
    "\n",
    "$$\n",
    "s(t)  \n",
    "= \\frac{1}{T_s} \\sum\\limits_{k=-\\infty}^{\\infty}  e^{j k \\omega_0 t } \n",
    "= \\frac{1}{T_s} \\sum\\limits_{k=-\\infty}^{\\infty}  e^{j k \\omega_s t }{.} \n",
    "$$\n",
    "\n",
    "Važi da je $\\omega_0 = \\omega_s$ jer je $T_s$ osnovna perioda signala $s(t)$.\n",
    "\n",
    "Da bismo ovu relaciju lepše ilustrovali, izraz za povorku Dirakovih impulsa možemo preurediti u sledeći oblik:\n",
    "\n",
    "\\begin{align*}\n",
    "s(t)  \n",
    "&= \\frac{1}{T_s} \\sum\\limits_{k=-\\infty}^{\\infty}  e^{j k \\omega_s t } \n",
    "= \\frac{1}{T_s} \\left( \\sum\\limits_{k=-\\infty}^{-1}{ e^{j k \\omega_s t } } \n",
    "+ 1 \n",
    "+ \\sum\\limits_{k=1}^{\\infty}{ e^{j k \\omega_s t } } \\right) \\\\\n",
    "&= \\frac{1}{T_s} \\left( 1 + 2\\sum\\limits_{k=1}^{\\infty}{ \\frac{e^{j k \\omega_s t } + e^{-j k \\omega_s t }}{2} } \\right)\n",
    "= \\frac{1}{T_s} \\left( 1 + 2\\sum\\limits_{k=1}^{\\infty}{ \\cos \\left(k \\omega_s t \\right) }  \\right) {.} \n",
    "\\end{align*}\n",
    "\n",
    "Sledeća Pajton animacija ilustruje prethodni izraz:"
   ]
  },
  {
   "cell_type": "code",
   "execution_count": null,
   "metadata": {},
   "outputs": [],
   "source": [
    "import numpy as np\n",
    "%matplotlib widget\n",
    "import matplotlib as mpl\n",
    "mpl.rc('text', usetex = True)\n",
    "mpl.rc('font', family = 'serif', size = 18)\n",
    "import matplotlib.pyplot as plt\n",
    "\n",
    "from matplotlib import animation, rc\n",
    "from IPython.display import HTML\n",
    "\n",
    "numFrames = 21\n",
    "numCosinesPerFrame = 2\n",
    "\n",
    "plt.ioff()\n",
    "figCombAnim, axCombAnim = plt.subplots(figsize = [10, 7])\n",
    "plt.ion()\n",
    "\n",
    "plt.subplots_adjust(bottom=0.15)\n",
    "\n",
    "f0 = 0.1\n",
    "\n",
    "duration = 100\n",
    "Ts = 0.001\n",
    "t = np.arange(0, duration + Ts, Ts) - duration/2\n",
    "xs = np.cos(2*np.pi*f0*t)\n",
    "\n",
    "cosines = np.zeros([numFrames, len(t)])\n",
    "\n",
    "def update(i):\n",
    "    axCombAnim.cla()\n",
    "    if i == 0:\n",
    "        cosines[0, :] = np.ones([1, len(t)])\n",
    "    else:\n",
    "        cosines[i, :] = 2*np.cos(2*np.pi*i*f0*t)\n",
    "    \n",
    "    currentDelta = sum(cosines, 0) \n",
    "    \n",
    "    axCombAnim.plot(t, currentDelta)\n",
    "    \n",
    "anim = animation.FuncAnimation(figCombAnim, update, frames=numFrames, interval=500, repeat = False)\n",
    "\n",
    "# Uncomment if you want to save GIF\n",
    "# anim.save('comb.gif', dpi=80)\n",
    "\n",
    "rc('animation', html='jshtml')\n",
    "rc\n",
    "HTML(anim.to_jshtml())"
   ]
  },
  {
   "cell_type": "markdown",
   "metadata": {},
   "source": [
    "Ako se setimo sledećih transformacionih parova\n",
    "\n",
    "$$\n",
    "\\mathcal{F} \\left\\lbrace \\cos{\\omega_0 t} \\right\\rbrace = \\pi \\left[ \\delta\\left(\\omega - \\omega_0\\right) + \\delta\\left(\\omega + \\omega_0\\right) \\right]\n",
    "$$\n",
    "\n",
    "i\n",
    "\n",
    "$$\n",
    "\\mathcal{F} \\left\\lbrace 1 \\right\\rbrace = 2\\pi \\delta(\\omega) {,}\n",
    "$$\n",
    "\n",
    "lako je zaključiti da je Furijeova transformacija povorke Dirakovih impulsa takođe povorka Dirakovih impulsa u frekvencijskom domenu:\n",
    "\n",
    "$$\n",
    "S(j \\omega) = \\mathcal{F} \\left\\lbrace \\frac{1}{T_s} \\left( 1 + 2\\sum\\limits_{k=1}^{\\infty}{ \\cos \\left(k \\omega_s t \\right) }  \\right) \\right\\rbrace = \\frac{2\\pi}{T_s} \\sum\\limits_{k=-\\infty}^{\\infty}{ \\delta\\left(\\omega - k\\omega_s\\right)} {.}\n",
    "$$\n",
    "\n",
    "<center><img src=\"images/S_jw.svg\" /></center>\n"
   ]
  },
  {
   "cell_type": "markdown",
   "metadata": {},
   "source": [
    "Konačno, spektar odabiranog signala $x_s(t)$, $X_s(j \\omega)$ je\n",
    "\n",
    "\\begin{align*}\n",
    "X_s(j \\omega)\n",
    "&= \\frac{1}{2\\pi} X(j \\omega) * S(j \\omega) \\\\\n",
    "&= \n",
    "\\frac{1}{2\\pi} \n",
    "\\int\\limits_{-\\infty}^{+\\infty} X(j (\\omega - u) ) \\frac{2\\pi}{T_s} \\sum\\limits_{k=-\\infty}^{\\infty} \\delta(u -k \\omega_s) d u \\\\\n",
    "&= \n",
    "\\frac{1}{T_s} \\sum\\limits_{k=-\\infty}^{\\infty} \\int\\limits_{-\\infty}^{+\\infty} X(j (\\omega - u) ) \\delta(u - k \\omega_s) d u \\\\\n",
    "&=\n",
    "\\frac{1}{T_s} \\sum\\limits_{k=-\\infty}^{\\infty} X(j (\\omega - k \\omega_s) {.}\n",
    "\\end{align*}\n",
    "\n",
    "U poslednjem koraku upotrebljeno je svojstvo Dirakove funkcije\n",
    "$$\n",
    "\\int\\limits_{-\\infty}^{+\\infty} f(x) \\delta(x-x_0) d x = f(x_0) {.}\n",
    "$$\n",
    "\n",
    "Dakle, spektar odabiranog signala je suma beskonačno mnogo kopija spektra originalnog signala transliranih oko kružnih učestanosti $k\\omega_s$ i skaliranih faktorom $1/T_s$.\n",
    "\n",
    "<center><img src=\"images/Xs_jw.svg\" /></center>\n",
    "\n",
    "Na osnovu prethodne analize se može zaključiti da se spektar originalnog signala u potpunosti sadrži u spektru odabiranog signala i da prostim odabiranjem nije došlo ni do kakvog gubitka informacija. Naravno, kao što smo videli ranije, u realnosti, A/D konverzijom će se izgubiti neke informacije, pre svega zbog kvantizacije. O tome će biti reči kasnije. Ako pogledamo spektar odabiranog signala, možemo zaključiti da se originalni spektar može dobiti izdvajanjem jedne kopije oko učestanosti $0$ i njenim množenjem sa $T_s$. Ovo se može postići idealnim filtrom propusnikom niskih učestanosti (_lowpass filter_) koji pored filtarske funkcije još i radi skaliranje amplitude u propusnom opsegu za $T_s$.\n",
    "\n",
    "<center><img src=\"images/Xs_jw_Hr_id.svg\" /></center>\n",
    "\n",
    "Rezultat filtriranja je potpuno rekonstruisani originalni analogni signal $x(t)$.\n",
    "\n",
    "#### Problem preklapanja u spektru\n",
    "Iz prethodne analize smo videli da se kopije spektra originalnog signala javljaju oko kružnih učestanosti $k\\omega_s$, gde je $k$ ceo broj. Spektar originalnog signala je u prethodnoj analizi bio ograničen, tj. jednak je nuli za sve $|\\omega| > \\omega_{max}$. To je omogućilo da se kopije spektra originalnog signala u spektru odabiranog signala ne preklapaju. Međutim, nije samo dovoljno da je spekar ograničen, već se vidi i da je i $\\omega_s > 2\\omega_{max}$. Ako to ne bi bio slučaj, kopije spektra bi se preklapale i iz odabiranog signala više ne bi bilo moguće da se u potpunosti rekonstruiše originalni analogni signal. Evo jednog primera spektra originalnog signala kod koga __nije__ zadovoljen uslov $\\omega_s > 2\\omega_{max}$: \n",
    "\n",
    "<center><img src=\"images/X_jw_fs_bad.svg\" /></center>\n",
    "\n",
    "a zatim i spektra odabiranog signala:\n",
    "\n",
    "<center><img src=\"images/Xs_jw_fs_bad.svg\" /></center>\n",
    "\n",
    "Ova pojava se naziva preklapanje u spektru (na engleskom _aliasing_). Lako je uočiti da spektar rekonstruisanog signala neće biti isti kao spektar originalnog signala, čak iako se koristi idealni filtar za rekonstrukciju. \n",
    "\n",
    "Na osnovu svega navedenog možemo formulisati __teoremu o odabiranju__: Kontinualni signal je moguće u potpunosti rekonstruisati iz odabiranog signala, samo ako je spektar kontinualnog signala ograničen i ako je učestanost odabiranja najmanje dva puta veća od najveće učestanosti kontinualnog signala. Treba naglasiti da se teorema o odabiranju može formulisati i drugačije ([link](http://oro.open.ac.uk/18584/1/PDF.pdf)). "
   ]
  },
  {
   "cell_type": "markdown",
   "metadata": {},
   "source": [
    "### Odabiranje sinusoide\n",
    "Najpre, napišimo izraz za dikretni sinusoidalni signal $x[n]$ koji je dobijen odabiranjem kontinualnog signala $x(t)$:\n",
    "\n",
    "$$\n",
    "x(t) = A \\cos(2 \\pi f t + \\theta) = A \\cos (\\omega t + \\theta)\n",
    "$$\n",
    "\n",
    "$$\n",
    "x[n] = x(nT_s) = A \\cos(2 \\pi f n T_s + \\theta) = A \\cos(2 \\pi \\frac{f}{f_s} n + \\theta) = A \\cos(2 \\pi F n + \\theta) = A \\cos (\\Omega n + \\theta)\n",
    "$$\n",
    "\n",
    "Promenljivu $F = f/f_s$ nazivamo relativnom učestanošću jer ona predstavlja odnos učestanosti kontinualnog signala i učestanosti odabiranja. Slično kao kod kontinualnoh signala, promenljivu $\\Omega = 2\\pi F$ nazivamo relativnom kružnom učestanošću.\n",
    "\n",
    "Da vidimo kako to izgleda u realnosti. Sledeći Pajton kod prikazuje dve sinusoide, jednu crta kao kontinualnu funkciju vremena korišćenjem naredbe ```plot```, dok drugu crta kao diskretnu sinusoidu korišćenjem naredbe ```stem```. Kontinualna sinusoida naravno nije prava kontinualna sinusoida, ali je njena učestanost odabiranja velika i podešena tako da ne dolazi do preklapanja u spektru. Ideja ovog programčića je da kontinualnu sinusoidu odabira korišćenjem različitih perioda odabiranja."
   ]
  },
  {
   "cell_type": "code",
   "execution_count": null,
   "metadata": {},
   "outputs": [],
   "source": [
    "import numpy as np\n",
    "if USE_WIDGETS:\n",
    "    %matplotlib widget\n",
    "else:\n",
    "    %matplotlib inline\n",
    "import matplotlib as mpl\n",
    "mpl.rc('text', usetex = True)\n",
    "mpl.rc('font', family = 'serif', size = 18)\n",
    "import matplotlib.pyplot as plt\n",
    "\n",
    "# Signal x(t)\n",
    "duration = 10\n",
    "Ta = 0.001\n",
    "f = 1\n",
    "t = np.arange(0, duration + Ta, Ta)\n",
    "x = np.sin(2*np.pi*f*t)\n",
    "\n",
    "# Signal s(t)\n",
    "Ts = 0.1\n",
    "\n",
    "# Sample x[n] = x(nTs)\n",
    "xn = x[:len(x):round(Ts/Ta)]\n",
    "ts = t[:len(t):round(Ts/Ta)]\n",
    "\n",
    "fig, ax = plt.subplots()\n",
    "plt.subplots_adjust(bottom=0.15)\n",
    "plt.subplots_adjust(left=0.15)\n",
    "\n",
    "plt.plot(t, x)\n",
    "plt.stem(ts, xn, 'w', basefmt = \"k\")\n",
    "\n",
    "plt.xlabel(r'$t$'); \n",
    "plt.ylabel(r'$x(t), x[n] $'); \n",
    "\n",
    "ax.set_xlim(0, duration)\n",
    "ax.set_ylim(-1.1, 1.1)\n",
    "\n"
   ]
  },
  {
   "cell_type": "markdown",
   "metadata": {},
   "source": [
    "Sledeća animacija prikazuje odabiranje sinusoide čija se učestanost linearno menja u vremenu, ali se perioda odabiranja drži fiksiranom. Šta primećujemo?"
   ]
  },
  {
   "cell_type": "code",
   "execution_count": null,
   "metadata": {},
   "outputs": [],
   "source": [
    "import numpy as np\n",
    "%matplotlib widget\n",
    "import matplotlib as mpl\n",
    "mpl.rc('text', usetex = False)\n",
    "mpl.rc('font', family = 'serif', size = 18)\n",
    "import matplotlib.pyplot as plt\n",
    "\n",
    "from matplotlib import animation, rc\n",
    "from IPython.display import HTML\n",
    "\n",
    "numFrames = 101\n",
    "numFullCircles = 2\n",
    "\n",
    "plt.ioff()\n",
    "figSinAnim, axSinAnim = plt.subplots(figsize = [12, 5])\n",
    "plt.ion()\n",
    "\n",
    "plt.subplots_adjust(bottom=0.15)\n",
    "\n",
    "duration = 40\n",
    "f0 = 0\n",
    "\n",
    "Ta = 0.001;\n",
    "ta = np.arange(0, duration + Ta, Ta) \n",
    "xa = np.cos(2*np.pi*f0*ta)\n",
    "\n",
    "Ts = 1\n",
    "t = np.arange(0, duration + Ts, Ts)\n",
    "xs = np.cos(2*np.pi*f0*t)\n",
    "\n",
    "def update(i):\n",
    "    axSinAnim.cla()\n",
    "    f = i * numFullCircles/(numFrames - 1)\n",
    "    xa = np.cos(2*np.pi*f*ta)\n",
    "    xs = np.cos(2*np.pi*f*t)\n",
    "    axSinAnim.plot(ta, xa)\n",
    "    markerline, stemlines, baseline = axSinAnim.stem(t, xs, ':', basefmt='k')\n",
    "    plt.setp(markerline, 'markerfacecolor', 'tab:red')\n",
    "    axSinAnim.plot(t, xs)\n",
    "    \n",
    "    axSinAnim.set_xlabel(r'$t (\\mathrm{s})$'); \n",
    "    axSinAnim.set_ylabel(r'$x(t)$');\n",
    "    \n",
    "    axSinAnim.set_ylim([-1.1, 1.1])\n",
    "    axSinAnim.set_xlim([0, duration])\n",
    "    \n",
    "    secaxy = axSinAnim.secondary_yaxis('right')\n",
    "    secaxy.set_ylabel(r'$x[n]$', color = 'tab:red');\n",
    "\n",
    "anim = animation.FuncAnimation(figSinAnim, update, frames=numFrames, interval=500, repeat = False)\n",
    "\n",
    "# Uncomment if you want to save GIF\n",
    "# anim.save('sinSampling.gif', dpi=80)\n",
    "\n",
    "rc('animation', html='jshtml')\n",
    "rc\n",
    "HTML(anim.to_jshtml())"
   ]
  },
  {
   "cell_type": "markdown",
   "metadata": {},
   "source": [
    "Primećujemo interesantan efekat da se učestanost diskretnog signala povećava sve dok je teorema o odabiranju zadovoljena. Kada učestanost ulazne sinusoide poraste preko $ f_s / 2 $, relativna učestanost diskretne sinusoide se efektivno smanjuje, pa ponovo povećava, pa ponovo smanjuje. Čudan efeka zar ne? I nije tako čudan. Ovo je najlakše objasniti na primeru odabiranja kompleksne sinusoide. \n",
    "\n",
    "$$\n",
    "x(t) = \\cos(2 \\pi f t) + j \\sin(2 \\pi f t) = {e}^{j 2 \\pi f t} = {e}^{j \\omega t} \n",
    "$$\n",
    "\n",
    "$$\n",
    "x[n] = x(nT_s) = {e}^{j 2 \\pi f n T_s} = {e}^{j 2 \\pi \\frac{f}{f_s} n} = {e}^{j 2 \\pi F n} = {e}^{j \\Omega n}\n",
    "$$\n",
    "\n",
    "Dakle, sve je isto kao i ranije, isto definišemo relativne učestanosti, samo što je signal sada niz kompleksnih odbiraka. Pošto je signal niz kompleksnih odbiraka, možemo da predstaviti u kompleksnoj ravni, realni deo na x-osi, a imaginarni na y-osi. Slično kao ranije, menjaćemo periodu odabiranja i videćemo šta se dešava sa učestanošću."
   ]
  },
  {
   "cell_type": "code",
   "execution_count": null,
   "metadata": {},
   "outputs": [],
   "source": [
    "import numpy as np\n",
    "%matplotlib widget\n",
    "import matplotlib as mpl\n",
    "mpl.rc('text', usetex = True)\n",
    "mpl.rc('font', family = 'serif', size = 18)\n",
    "import matplotlib.pyplot as plt\n",
    "\n",
    "from matplotlib import animation, rc\n",
    "from IPython.display import HTML\n",
    "\n",
    "import matplotlib.colors as colors\n",
    "colorsList = list(colors._colors_full_map.values())\n",
    "\n",
    "numFrames = 26\n",
    "numFullCircles = 2\n",
    "\n",
    "plt.ioff()\n",
    "figComplexAnim, axComplexAnim = plt.subplots(figsize = [6, 6])\n",
    "plt.ion()\n",
    "\n",
    "plt.subplots_adjust(bottom=0.25, left = 0.25)\n",
    "\n",
    "numFrames = 20\n",
    "\n",
    "duration = 1\n",
    "f0 = 1\n",
    "\n",
    "Ta = 0.001;\n",
    "Ts = 0.05\n",
    "\n",
    "duration = numFrames*Ts\n",
    "\n",
    "ta = np.arange(0, duration + Ta, Ta) \n",
    "xa = np.exp(2j*np.pi*f0*ta)\n",
    "\n",
    "# start from 0.05\n",
    "t = np.arange(0, duration + Ts, Ts)\n",
    "xs = np.exp(2j*np.pi*f0*t)\n",
    "\n",
    "def update(i):\n",
    "    axComplexAnim.cla()\n",
    "    # plot circle\n",
    "    axComplexAnim.plot(xa.real, xa.imag)\n",
    "    \n",
    "    # sampled complex exponential\n",
    "    xs = np.exp(2j*np.pi*f0*t)\n",
    "    \n",
    "    # stem it\n",
    "    markerline, stemlines, baseline = axComplexAnim.stem(xs[:i+1].real, xs[:i+1].imag, 'w', basefmt=' ')\n",
    "    plt.setp(markerline, 'markerfacecolor', colorsList[i])\n",
    "    \n",
    "    # draw lines from (0,0)\n",
    "    for j in range(i+1):\n",
    "        axComplexAnim.plot([0, xs[j].real], [0, xs[j].imag], 'k', dashes=[1, 2])\n",
    "    \n",
    "    axComplexAnim.set_xlabel(r'$\\cos(\\omega t), \\cos(\\Omega n)$'); \n",
    "    axComplexAnim.set_ylabel(r'$\\sin(\\omega t), \\sin(\\Omega n))$');\n",
    "    \n",
    "    axComplexAnim.set_ylim([-1.1, 1.1])\n",
    "    axComplexAnim.set_xlim([-1.1, 1.1])        \n",
    "\n",
    "anim = animation.FuncAnimation(figComplexAnim, update, frames=numFrames, interval=500, repeat = False)\n",
    "\n",
    "# Uncomment if you want to save GIF\n",
    "# anim.save('complexSinSampling.gif', dpi=80)\n",
    "\n",
    "rc('animation', html='jshtml')\n",
    "rc\n",
    "HTML(anim.to_jshtml())"
   ]
  },
  {
   "cell_type": "markdown",
   "metadata": {},
   "source": [
    "Vidimo da se promenom periode odabiranja menja \"smer\" signala u situaciji kada teorema o odabiranju nije zadovoljena. Relativna kružna učestanost $\\Omega_0$ će dati iste odbirke kao i relativna kružna učestanost $2\\pi - \\Omega_0$. Isti evekat ste možda ranije videli u filmovima, kada se točak veoma brzog automobila odjedanput uspori ili čak okreće u suprotnom smeru. Evo lepe demonstacije na ledećem [linku](https://www.youtube.com/watch?v=VNftf5qLpiA&ab_channel=JonathanValvano).\n",
    "\n",
    "Dodatni video ispod prikazuje spektar originalne sinusoide i diskretizovane sinusoide u situacijama kada je teorema odabiranja zadovoljena, a zatim i kada nije zadovoljena (primer preuzet sa [linka](https://dspillustrations.com/pages/posts/misc/aliasing-and-anti-aliasing-filter.html)):"
   ]
  },
  {
   "cell_type": "code",
   "execution_count": null,
   "metadata": {},
   "outputs": [],
   "source": [
    "from IPython.display import Video\n",
    "display(Video(\"videos/aliasing.mp4\"))"
   ]
  },
  {
   "cell_type": "markdown",
   "metadata": {},
   "source": [
    "Na kraju, čujmo kako to zvuči kada se pretvori u zvuk. Učestanost ulazne sinusoide raste (prva sinusoida na osciloskopu). Sinusoida se odabira fiksnom učestanošću odabiranja. Iz diskretnog signala se zatim rekonstruiše analogni signal (druga sinusoida na osciloskopu) koji je i doveden na zvučnik."
   ]
  },
  {
   "cell_type": "code",
   "execution_count": null,
   "metadata": {},
   "outputs": [],
   "source": [
    "from IPython.display import Video\n",
    "display(Video(\"videos/sampling_sweep.mp4\"))"
   ]
  },
  {
   "cell_type": "markdown",
   "metadata": {},
   "source": [
    "### Spektar diskretnog signala\n",
    "\n",
    "Na diskretne signale se takođe može primeniti Furijeova transformacija. Jedina razlika je što se integral po vremenu pretvara u sumu po indeksu odbirka. Pošto smo uveli pojmove relativne učestanosti i relativne kružne učestanosti, sada možemo videti kako izgleda spektar proizvoljnog diskretnog signala. Furijeova transformacija diskretnog signala (_Discrete Time Fourer Transform - DTFT_) se definiše sa:\n",
    "\n",
    "$$\n",
    "X({e}^{j \\Omega}) = \\mathcal{F} \\left\\lbrace x[n] \\right\\rbrace = \\sum\\limits_{n=-\\infty}^{\\infty} x[n] {e}^{-j \\Omega n} {,}\n",
    "$$\n",
    "\n",
    "dok je inverzna Furijeova transformacija\n",
    "\n",
    "$$\n",
    "x[n] = \\mathcal{F^{-1}} \\left\\lbrace X({e}^{j \\Omega}) \\right\\rbrace = \\frac{1}{2 \\pi} \\int\\limits_{-\\pi}^{\\pi} X({e}^{j \\Omega}){e}^{j \\Omega n} d \\Omega {.}\n",
    "$$\n",
    "\n",
    "Lako je pokazati da je Furijeova transformacija diskretnog signala periodična sa periodom $2\\pi$:\n",
    "\n",
    "$$\n",
    "X({e}^{j (\\Omega + 2k\\pi)}) =  \\sum\\limits_{n=-\\infty}^{\\infty} x[n]{e}^{-j \\Omega n - j 2 k \\pi n} =  \n",
    "\\sum\\limits_{n=-\\infty}^{\\infty} x[n]{e}^{-j \\Omega n} = X({e}^{j \\Omega}) {.}\n",
    "$$\n",
    "\n",
    "<center><img src=\"images/X_jO.svg\" /></center>\n",
    "\n",
    "Jasno je da relativna kružna učestanost $\\Omega = \\pi$ odgovara kružnoj učestanosti $\\omega = \\omega_s/2$, što je važan zaključak. U digitalnoj obradi signala, računaćemo samo Furijeovu tranformaciju diskretnih signala. Iz nje ćemo na osnovu relativnih kružnih učestanosti moći lako da procenimo kojim kružnim učestanostima kontinualnog signala odgovaraju spektralne komponente u diskretnom domenu."
   ]
  },
  {
   "cell_type": "markdown",
   "metadata": {},
   "source": [
    "### Odabir učestanosti odabiranja\n",
    "\n",
    "Iz prethodne analize, očigledno je da učestanost odabiranja treba odabrati tako da je najmanje dva puta veća od maksimalne učestanosti kontiunalnog signala, kako bi bilo moguće rekonstruisati taj signal i kako se ne bi javili artefakti izazvani preklapanjem kopija spektra. Tako se na primer u audio tehnici koriste učestanosti odabiranja _f<sub>s</sub>_ = 44,1 kHz, _f<sub>s</sub>_ = 48 kHz, _f<sub>s</sub>_ = 96 kHz, _f<sub>s</sub>_ = 192 kHz, zavisno od standarda, ali sve pod pretpostavkom da čovek može da čuje učestanosti manje od 20 kHz. Dakle, ako koristan signal zauzima spektar do učestanosti $ f_{max} $, neophodno je usvojiti $ f_s > 2f_{max} $. \n",
    "\n",
    "Međutim, u elektronskim kolima se uvek javlja šum koji je načešće širokopojasan i prisutan i na većim učestanostima od $ f_{max} $. Da li to znači da učestanost odabiranja moramo odrediti na osnovu opsega šuma, a ne korisnog signala? Evo jednog primera:\n",
    "\n",
    "<center><img src=\"images/X_jw_noisy.svg\" /></center>\n",
    "\n",
    "Šum nije koristan signal, ali postoji na učestanostima većim od $ f_{max} $ i može izazvati artefakte zbog preklapanja kopija spektra. Ovo je neprihvatljivo, ali je i nepotrebno povećavati učestanost odabiranja u nedogled. A/D konvertori koji imaju velike učestanosti odabiranja su skuplji, kompleksniji i troše više energije. Količina podataka koju je potrebno obraditi ili skladištiti u memoriji digitalnog sistema raste sa učestanošću odabiranja. Stoga bi bilo dobro odabrati učestanost odabiranja prema korisnom signalu, a ne prema šumu. Kako bi se izbeglo preklapanje u spektru, pre A/D konverzije je neophodno postaviti analogni filtar propusnik niskih učestanosti koji će eliminisati sve frekvencijske komponente na učestanostima većim od $ f_s / 2 $. \n",
    "\n",
    "<center><img src=\"images/AD_LPF.svg\" style=\"width: 300px;\"/></center>\n",
    "\n",
    "Spektar isfiltriranog signala sada izgleda kao na slici ispod i sada je moguće koristiti učestanost odabiranja odabranu prema spektru korisnog signala tako da se ne pojave artefakti zbog preklapanja u spektru. Analogni filtar za sprečavanje preklapanja u spektru prilikom odabiranja se u engleskoj literaturi naziva _anti-aliasing filter_.  \n",
    "\n",
    "<center><img src=\"images/X_jw_noisy_filtered.svg\" /></center>\n"
   ]
  },
  {
   "cell_type": "markdown",
   "metadata": {},
   "source": [
    "## Rekonstrukcija signala\n",
    "\n",
    "### Idealna rekonstrukcija\n",
    "\n",
    "Idealna rekonstrukcija kontinualnog signala $x(t), x_r(t),$ prikazana je na slici ispod. Konverziju iz diskretnog signala u kontinualni nazivamo digitalno-analogna konverzija.\n",
    "\n",
    "<center><img src=\"images/DA_ideal.svg\" style=\"width: 550px;\"/></center>\n",
    "\n",
    "Iz odbiraka diskretnog signala $x[n]$ je najpre potrebno napraviti povorku Dirakovih impulsa $ x_{sr}(t) $ koja bi u slučaju da nije bilo gubitaka usled kvantizacije trebalo da bude ista kao i ranije pomenuta povorka $x_s(t)$ . \n",
    "\n",
    "$$\n",
    "x_{sr}(t) = \\sum\\limits_{n=-\\infty}^{\\infty} x[n] \\delta(t-nT_s)\n",
    "$$\n",
    "\n",
    "Ovim smo već prešli u analogni domen, i dobijamo spektar signala $X_{sr} (j \\omega) = X_s (j \\omega)$ iz koga se idealnim filtriranjem lako može izdvojiti osnovni frekvencijski opseg i na taj način dobiti rekonstrukcija kontinualnog signala.\n",
    "\n",
    "<center><img src=\"images/Xs_jw_Hr_id.svg\"/></center>\n",
    "\n",
    "Dakle, spektar idealnog filtra za rekonstrukciju je jednak 1 u propusnom opsegu (od $-\\omega_s/2$ do $\\omega_s/2$).\n",
    "\n",
    "<center><img src=\"images/Hr_id_jw.svg\"/></center>\n",
    "\n",
    "U vremenskom domenu, impulsni odziv ovog filtra se može zapisati kao\n",
    "\n",
    "$$\n",
    "h_r(t) = \\frac{\\sin (\\pi t / T_s)}{\\pi t / T_s},\n",
    "$$\n",
    "\n",
    "što je takozvana _sinc_ funkcija.\n",
    "\n",
    "<center><img src=\"images/hr_id.svg\"/></center>\n",
    "\n",
    "Setimo se da je odziv filtra na bilo koju pobudu konvolucija te pobude i njegovog impulsnog odziva. S obzirom na to da je signal $x_{sr}(t)$ povorka impulsa, odziv na povorku impulsa će biti samo suma pomerenih i skaliranih impulsnih odziva idealnog filtra za rekonstrukciju. \n",
    "\n",
    "\\begin{align*}\n",
    "x_r(t) \n",
    "&= x_{sr}(t) * h_r(t) = h_r(t) * x_{sr}(t) \\\\\n",
    "&= h_r(t) * \\sum\\limits_{n=-\\infty}^{\\infty} x[n] \\delta(t-nT_s) = \\sum\\limits_{n=-\\infty}^{\\infty} x[n] h_r(t-nT_s) \\\\\n",
    "&= \\sum\\limits_{n=-\\infty}^{\\infty} x[n]   \\frac{\\sin (\\pi (t - nT_s) / T_s)}{\\pi (t - nT_s) / T_s}\n",
    "\\end{align*}\n",
    "\n",
    "Ilustrujmo ovo jednim Pajton programom."
   ]
  },
  {
   "cell_type": "code",
   "execution_count": null,
   "metadata": {},
   "outputs": [],
   "source": [
    "import numpy as np\n",
    "if USE_WIDGETS:\n",
    "    %matplotlib widget\n",
    "else:\n",
    "    %matplotlib inline\n",
    "import matplotlib as mpl\n",
    "mpl.rc('text', usetex = True)\n",
    "mpl.rc('font', family = 'serif', size = 18)\n",
    "import matplotlib.pyplot as plt\n",
    "import matplotlib.colors as colors\n",
    "\n",
    "# odabir mape boja za plot mnogo grafika na jednoj slici\n",
    "# colorsList = list(colors._colors_full_map.values())\n",
    "colorsList = list(colors.TABLEAU_COLORS.values())\n",
    "\n",
    "# Signal x(t)\n",
    "duration = 6\n",
    "Ta = 0.001\n",
    "t = np.arange(0,duration,Ta)\n",
    "x = 0.5 + np.sin(2*np.pi*0.1*t - np.pi/6) + np.sin(2*np.pi*0.2*t + np.pi/3)\n",
    "\n",
    "timeOffset = 10*Ta\n",
    "\n",
    "# Signal s(t)\n",
    "Ts = 0.15\n",
    "ts = t[:len(t):round(Ts/Ta)] + timeOffset\n",
    "\n",
    "ticksLabels = ['0']\n",
    "for i in range(1,len(ts),1):\n",
    "    if i == 1:\n",
    "        label = '$T_s$'\n",
    "    else:\n",
    "        label = '$%dT_s$' % (i)\n",
    "    ticksLabels.append(label)\n",
    "\n",
    "# Sample xs(t) = x(t) * s(t)\n",
    "xs = x[round(timeOffset/Ta):len(x):round(Ts/Ta)]\n",
    "\n",
    "fig, ax = plt.subplots(figsize = [10, 5])\n",
    "\n",
    "markerline, stemlines, baseline = ax.stem(ts, xs, markerfmt = ' ', basefmt = ' ')\n",
    "plt.setp(stemlines, linestyle = ':', color = 'tab:blue')\n",
    "\n",
    "ax.plot(t, x, 'k', dashes=[3, 2])\n",
    "\n",
    "ax.set_xlabel(r'$t$'); \n",
    "ax.set_ylabel(r'$x(t), x_r(t)$'); \n",
    "\n",
    "ax.set_xlim(0, duration - Ta)\n",
    "ax.set_ylim(-0.5, 2)\n",
    "ax.set_xticks(ts.tolist())\n",
    "\n",
    "ax.set_xticklabels(ticksLabels)\n",
    "\n",
    "#show origin axis\n",
    "ax.axhline(y = 0, color = 'k')\n",
    "\n",
    "# reconstruction\n",
    "hrs = np.zeros([len(ts), len(t)])\n",
    "reconstructed = plt.plot([],[])\n",
    "\n",
    "numSincs = len(ts)\n",
    "if numSincs > len(ts):\n",
    "    print('Num of sincs wrong!')\n",
    "\n",
    "for i in range(numSincs):\n",
    "    # remove previous reconstruction\n",
    "    recLine = reconstructed.pop()\n",
    "    recLine.remove()\n",
    "    \n",
    "    # plot new hr\n",
    "    hrs[i, :] = xs[i]*np.sinc((t - i*Ts - timeOffset)/Ts)\n",
    "    ax.plot(t, hrs[i,:], dashes = [2, 1], color = colorsList[i % len(colorsList)])\n",
    "    \n",
    "    # plot new reconstruction\n",
    "    xr = np.sum(hrs, 0)\n",
    "    reconstructed = ax.plot(t, xr, color = 'tab:green')\n",
    "\n",
    "figErr, axe = plt.subplots(figsize = [10, 2])\n",
    "plt.subplots_adjust(bottom = 0.3)\n",
    "axe.plot(t, np.abs(xr - x))\n",
    "\n",
    "axe.set_xlim(0, duration - Ta)\n",
    "axe.set_ylim(0, 0.2)\n",
    "axe.set_xlabel(r'$t$'); \n",
    "axe.set_ylabel(r'$|x_r(t) - x(t)|$'); "
   ]
  },
  {
   "cell_type": "markdown",
   "metadata": {},
   "source": [
    "Primetimo da postoji greška rekonstrukcije. Ova greška postoji jer nismo sabrali doprinose odbiraka koji nisu prikazani na slici. Probajte da promenite učestanost odabiranja. Primetite da se povećanjem učestanosti odabiranja sredina signala sasvim lepo rekonstruiše, ali greška rekonstrukcije i dalje postoji. Kada bismo uračunali sve odbirke, greška rekonstrukcije bi bila nula."
   ]
  },
  {
   "cell_type": "markdown",
   "metadata": {},
   "source": [
    "### Realna digitalno-analogna konverzija\n",
    "\n",
    "Problem kod idealne D/A konverzije je taj što je nemoguće napraviti idealne Dirakove impulse. Najčešće, D/A konvertori rade tako što napon koji odgovara odbirku $x[n]$ drži konstantnim na izlazu od trenutka $nT_s - T_s/2$ do trenutka $nT_s + T_s/2$. Ovakva kola nije komplikovano napraviti i o njima ćete više slušati na predmetu Digitalna elektronika. Kolo koje drži konstantan napon na izlazu u toku jedne periode odabiranja se naziva kolom zadrške nultog reda (_Zero Order Hold - ZOH_). \n",
    "\n",
    "Impulsni odziv ovakvog kola za rekonstruciju je praktično pravougaoni impuls trajanja $T_s$. Da vidimo kako sada izgleda rekonstrukcija:"
   ]
  },
  {
   "cell_type": "code",
   "execution_count": null,
   "metadata": {},
   "outputs": [],
   "source": [
    "import numpy as np\n",
    "if USE_WIDGETS:\n",
    "    %matplotlib widget\n",
    "else:\n",
    "    %matplotlib inline\n",
    "import matplotlib as mpl\n",
    "mpl.rc('text', usetex = True)\n",
    "mpl.rc('font', family = 'serif', size = 18)\n",
    "import matplotlib.pyplot as plt\n",
    "import matplotlib.colors as colors\n",
    "\n",
    "# odabir mape boja za plot mnogo grafika na jednoj slici\n",
    "# colorsList = list(colors._colors_full_map.values())\n",
    "colorsList = list(colors.TABLEAU_COLORS.values())\n",
    "\n",
    "def rect(x):\n",
    "    r = 1*((x < 0.5) & (x >= -0.5))\n",
    "    return r\n",
    "\n",
    "colorsList = list(colors.TABLEAU_COLORS.values())\n",
    "\n",
    "# Signal x(t)\n",
    "duration = 6\n",
    "Ta = 0.001\n",
    "t = np.arange(0,duration,Ta)\n",
    "x = 0.5 + np.sin(2*np.pi*0.1*t - np.pi/6) + np.sin(2*np.pi*0.2*t + np.pi/3)\n",
    "\n",
    "timeOffset = 6*Ta\n",
    "\n",
    "# Signal s(t)\n",
    "Ts = 0.15\n",
    "ts = t[:len(t):round(Ts/Ta)] + timeOffset\n",
    "\n",
    "ticksLabels = ['0']\n",
    "for i in range(1,len(ts),1):\n",
    "    if i == 1:\n",
    "        label = '$T_s$'\n",
    "    else:\n",
    "        label = '$%dT_s$' % (i)\n",
    "    ticksLabels.append(label)\n",
    "\n",
    "# Sample xs(t) = x(t) * s(t)\n",
    "xs = x[round(timeOffset/Ta):len(x):round(Ts/Ta)]\n",
    "\n",
    "fig, ax = plt.subplots(figsize = [10, 5])\n",
    "markerline, stemlines, baseline = plt.stem(ts, xs, markerfmt = ' ', basefmt = ' ')\n",
    "plt.setp(stemlines, linestyle = ':', color = 'tab:blue')\n",
    "\n",
    "plt.plot(t, x, 'k', dashes=[3, 2])\n",
    "\n",
    "plt.xlabel(r'$t$'); \n",
    "plt.ylabel(r'$x_s(t)$'); \n",
    "\n",
    "ax.set_xlim(0, duration - Ta)\n",
    "ax.set_ylim(-0.5, 2)\n",
    "ax.set_xticks(ts.tolist())\n",
    "\n",
    "ax.set_xticklabels(ticksLabels)\n",
    "plt.xticks(fontsize=14)\n",
    "\n",
    "#plt.tick_params(axis='y', which='both', left=False, right=False, labelleft=False)\n",
    "\n",
    "#show origin axis\n",
    "ax.axhline(y = 0, color = 'k')\n",
    "\n",
    "# reconstruction\n",
    "hrs = np.zeros([len(ts), len(t)])\n",
    "reconstructed = plt.plot([],[])\n",
    "\n",
    "numSincs = len(ts)\n",
    "if numSincs > len(ts):\n",
    "    print('Num of sincs wrong!')\n",
    "\n",
    "for i in range(numSincs):\n",
    "    # remove previous reconstruction\n",
    "    recLine = reconstructed.pop()\n",
    "    recLine.remove()\n",
    "    \n",
    "    # plot new hr\n",
    "    hrs[i, :] = xs[i]*rect((t - i*Ts - timeOffset)/Ts)\n",
    "        \n",
    "    # fix overlaps\n",
    "    if i > 0:\n",
    "        nonZeroIndecesPrev = np.array(np.where(hrs[i-1, :] != 0)).squeeze()\n",
    "        nonZeroIndecesCurrent = np.array(np.where(hrs[i, :] != 0)).squeeze()\n",
    "        # if two rects have non zero value at same index, one of them should be set to 0\n",
    "        if nonZeroIndecesPrev[-1] == nonZeroIndecesCurrent[0]:\n",
    "            hrs[i, nonZeroIndecesCurrent[0]] = 0\n",
    "        # if two consecutive rects have zero value at the separating index, one of them should be set to non zero value\n",
    "        if nonZeroIndecesCurrent[0] - nonZeroIndecesPrev[-1] == 2:\n",
    "            hrs[i, nonZeroIndecesCurrent[0] - 1] = xs[i]\n",
    "    \n",
    "    plt.plot(t, hrs[i,:], dashes = [2, 1], color = colorsList[i % len(colorsList)])\n",
    "    \n",
    "    # plot new reconstruction\n",
    "    xr = np.sum(hrs, 0)\n",
    "    reconstructed = plt.plot(t, xr, color = 'tab:green')\n",
    "\n",
    "figErr, axe = plt.subplots(figsize = [10, 2])\n",
    "plt.subplots_adjust(bottom = 0.3)\n",
    "axe.plot(t, np.abs(xr - x))\n",
    "\n",
    "axe.set_xlim(0, duration - Ta)\n",
    "axe.set_ylim(0, 0.5)\n",
    "axe.set_xlabel(r'$t$'); \n",
    "axe.set_ylabel(r'$|x_r(t) - x_s(t)|$');\n"
   ]
  },
  {
   "cell_type": "markdown",
   "metadata": {},
   "source": [
    "Primetite oštre ivice na prelazima između različitih odbiraka. Ove oštre ivice će napraviti velike učestanosti u spektru rekonstruisanog signala i, recimo u audio signalima, najčešće će se čuti kao neprijatno zujanje superponirano na originalni signal. \n",
    "\n",
    "Frekvencijska karakteristika _ZOH_ filtra za rekonstrukciju će dualno prethodnom primeru biti _sinc_ funkcija. Pošto novi filtar nije idealan, kopije spektra neće biti u potpunosti potisnute. Te kopije praktično prave oštre ivice u vremenskom domenu.\n",
    "\n",
    "<center><img src=\"images/Xs_jw_Hr_ZOH_jw.svg\"/></center>\n",
    "\n",
    "<center><img src=\"images/Xr_jw.svg\"/></center>\n",
    "\n",
    "Zbog toga što su kopije spektra u nekoj meri ostale u rekonstruisanom signalu, one se moraju potisnuti analognim filtrom propusnikom niskih učestanosti. Tako dolazimo do finalne šeme sistema za digitalnu obradu analognih signala koja se sastoji od _anti-aliasing_ filtra, A/D konvertora, digitalnog sistema za obradu, D/A konvertora i još jednog filtra propusnika niskoh učestanosti za uklanjanje ostataka kopija spektra.\n",
    "\n",
    "<center><img src=\"images/DSP_system.svg\" style=\"width: 550px;\"/></center>\n",
    "\n",
    "Primetite da pored neudovoljno uklonjenih kopija spektra postoji još jedan problem u opsegu od interesa. _Sinc_ funkcija nije ravna u opsegu od $-\\omega_s/2$ do $\\omega_s/2$, što uzrokuje distorziju frekvencijske karakteristike rekonstruisanog signala. Ovo je moguće ublažiti u digitalnom domenu, ako se napravi digitalni filtar koji ima frekvencijsku karakteristiku koja je približno inverzna karakteristici _ZOH_ kola. Ovakav filtar se često koristi u telekomunikacionim sistemima i naziva se, pogodićete, _inverse sinc_ filtar. Evo primera frekvencijskog odziva D/A konvertora, inverznog _sinc_ filtra i rezultujućeg sistema.\n",
    "\n",
    "<center><img src=\"images/invSinc.svg\"/></center>\n",
    "\n",
    "Sada je frekvencijska karakteristika u većem delu opsega od interesa ravna, ali oslabljena za oko 2.5 dB."
   ]
  },
  {
   "cell_type": "markdown",
   "metadata": {},
   "source": [
    "### A/D i D/A konverzija audio signala\n",
    "\n",
    "Nakon cele uvodne priče, probajmo da signal snimljen jednom učestanošću odabiranja pustimo drugom učestanošću odabiranja. Kakve efekte primećujete?"
   ]
  },
  {
   "cell_type": "code",
   "execution_count": null,
   "metadata": {},
   "outputs": [],
   "source": [
    "import numpy as np\n",
    "if USE_WIDGETS:\n",
    "    %matplotlib widget\n",
    "else:\n",
    "    %matplotlib inline\n",
    "import matplotlib as mpl\n",
    "mpl.rc('text', usetex = True)\n",
    "mpl.rc('font', family = 'serif', size = 18)\n",
    "import matplotlib.pyplot as plt\n",
    "\n",
    "import IPython\n",
    "from IPython.display import Markdown\n",
    "from scipy.io import wavfile\n",
    "\n",
    "fsADC, x = wavfile.read('sounds/govor_elektronika.wav')\n",
    "\n",
    "fig, ax = plt.subplots(figsize = [10, 5])\n",
    "plt.subplots_adjust(bottom=0.15, left = 0.15)\n",
    "\n",
    "t = np.arange(len(x))/fsADC\n",
    "plt.plot(t, x)\n",
    "ax.set_xlabel(r'$t$'); \n",
    "ax.set_ylabel(r'$x(t)$');\n",
    "plt.show()\n",
    "\n",
    "fsDAC = fsADC\n",
    "display(Markdown(\"DA konverzija korišćenjem originalne učestanosti odabiranja\"))\n",
    "IPython.display.display(IPython.display.Audio(x, rate = fsDAC))\n",
    "\n",
    "fsDAC = 0.7*fsADC\n",
    "display(Markdown(\"DA konverzija korišćenjem manje učestanosti odabiranja\"))\n",
    "IPython.display.display(IPython.display.Audio(x, rate = fsDAC))\n",
    "\n",
    "fsDAC = 1.5*fsADC\n",
    "display(Markdown(\"DA konverzija korišćenjem veće učestanosti odabiranja\"))\n",
    "IPython.display.display(IPython.display.Audio(x, rate = fsDAC))"
   ]
  },
  {
   "cell_type": "markdown",
   "metadata": {},
   "source": [
    "## Literatura\n",
    "- A. V. Oppenheim, R. W. Schafer, _Discrete-Time Signal Processing_, 3rd ed. Prentice-Hall, 2009.\n",
    "- P. Prandoni, M. Vetterli, _Signal Processing for Communications_, EPFL Press, 2008."
   ]
  }
 ],
 "metadata": {
  "kernelspec": {
   "display_name": "Python 3 (ipykernel)",
   "language": "python",
   "name": "python3"
  },
  "language_info": {
   "codemirror_mode": {
    "name": "ipython",
    "version": 3
   },
   "file_extension": ".py",
   "mimetype": "text/x-python",
   "name": "python",
   "nbconvert_exporter": "python",
   "pygments_lexer": "ipython3",
   "version": "3.9.18"
  },
  "widgets": {
   "application/vnd.jupyter.widget-state+json": {
    "state": {
     "03eef9172f0e4cb58c7092b5f1742ee3": {
      "model_module": "@jupyter-widgets/base",
      "model_module_version": "1.2.0",
      "model_name": "LayoutModel",
      "state": {}
     },
     "0851770ce35c4f80ab817de77d601b5b": {
      "model_module": "@jupyter-widgets/base",
      "model_module_version": "1.2.0",
      "model_name": "LayoutModel",
      "state": {}
     },
     "288db7d494204f8993047d9bbe412b1d": {
      "model_module": "@jupyter-widgets/base",
      "model_module_version": "1.2.0",
      "model_name": "LayoutModel",
      "state": {}
     },
     "2ee8d765aa8a4556a0ff75b41c3b2bfb": {
      "model_module": "@jupyter-widgets/base",
      "model_module_version": "1.2.0",
      "model_name": "LayoutModel",
      "state": {}
     },
     "36fcb4061a784d9894be02bd263d9c4b": {
      "model_module": "@jupyter-widgets/base",
      "model_module_version": "1.2.0",
      "model_name": "LayoutModel",
      "state": {}
     },
     "3ec1bd0df4384c6a960ec056d1f4c235": {
      "model_module": "@jupyter-widgets/base",
      "model_module_version": "1.2.0",
      "model_name": "LayoutModel",
      "state": {}
     },
     "3fa43bf6a2fa49829629ad2dd1869457": {
      "model_module": "@jupyter-widgets/base",
      "model_module_version": "1.2.0",
      "model_name": "LayoutModel",
      "state": {}
     },
     "4cbd80f7556d447db9fb3cb3818b4e6e": {
      "model_module": "jupyter-matplotlib",
      "model_module_version": "^0.7.4",
      "model_name": "MPLCanvasModel",
      "state": {
       "_cursor": "default",
       "_figure_label": "Figure 1",
       "_height": 480,
       "_width": 640,
       "layout": "IPY_MODEL_545b9ac17a3f4ce7b647744cf9cc2d21",
       "toolbar": "IPY_MODEL_65a44ba9a5b84e638a90aca328bd6eea",
       "toolbar_position": "left"
      }
     },
     "4e332b845a2a49369bb4fbf55e76811f": {
      "model_module": "@jupyter-widgets/base",
      "model_module_version": "1.2.0",
      "model_name": "LayoutModel",
      "state": {}
     },
     "5220c317f26b4da9a242a463cb10311a": {
      "model_module": "@jupyter-widgets/base",
      "model_module_version": "1.2.0",
      "model_name": "LayoutModel",
      "state": {}
     },
     "545b9ac17a3f4ce7b647744cf9cc2d21": {
      "model_module": "@jupyter-widgets/base",
      "model_module_version": "1.2.0",
      "model_name": "LayoutModel",
      "state": {}
     },
     "5fd38c5e08cd42bc8a097265a2305e13": {
      "model_module": "jupyter-matplotlib",
      "model_module_version": "^0.7.4",
      "model_name": "ToolbarModel",
      "state": {
       "layout": "IPY_MODEL_36fcb4061a784d9894be02bd263d9c4b",
       "toolitems": [
        [
         "Home",
         "Reset original view",
         "home",
         "home"
        ],
        [
         "Back",
         "Back to previous view",
         "arrow-left",
         "back"
        ],
        [
         "Forward",
         "Forward to next view",
         "arrow-right",
         "forward"
        ],
        [
         "Pan",
         "Left button pans, Right button zooms\nx/y fixes axis, CTRL fixes aspect",
         "arrows",
         "pan"
        ],
        [
         "Zoom",
         "Zoom to rectangle\nx/y fixes axis, CTRL fixes aspect",
         "square-o",
         "zoom"
        ],
        [
         "Download",
         "Download plot",
         "floppy-o",
         "save_figure"
        ]
       ]
      }
     },
     "65a44ba9a5b84e638a90aca328bd6eea": {
      "model_module": "jupyter-matplotlib",
      "model_module_version": "^0.7.4",
      "model_name": "ToolbarModel",
      "state": {
       "layout": "IPY_MODEL_e1e409948b1b43c2948f630bfdb9ef0c",
       "toolitems": [
        [
         "Home",
         "Reset original view",
         "home",
         "home"
        ],
        [
         "Back",
         "Back to previous view",
         "arrow-left",
         "back"
        ],
        [
         "Forward",
         "Forward to next view",
         "arrow-right",
         "forward"
        ],
        [
         "Pan",
         "Left button pans, Right button zooms\nx/y fixes axis, CTRL fixes aspect",
         "arrows",
         "pan"
        ],
        [
         "Zoom",
         "Zoom to rectangle\nx/y fixes axis, CTRL fixes aspect",
         "square-o",
         "zoom"
        ],
        [
         "Download",
         "Download plot",
         "floppy-o",
         "save_figure"
        ]
       ]
      }
     },
     "834104ce3bcf4c50ac96ff81d00ef780": {
      "model_module": "@jupyter-widgets/base",
      "model_module_version": "1.2.0",
      "model_name": "LayoutModel",
      "state": {}
     },
     "ab0eb5767a524b2cbc73c76d9c0a38b2": {
      "model_module": "@jupyter-widgets/base",
      "model_module_version": "1.2.0",
      "model_name": "LayoutModel",
      "state": {}
     },
     "b388d5a9a3eb43baae3f67197281c63c": {
      "model_module": "@jupyter-widgets/base",
      "model_module_version": "1.2.0",
      "model_name": "LayoutModel",
      "state": {}
     },
     "b3be26a4e1ab4f1bb72ef9e74fd3b92b": {
      "model_module": "jupyter-matplotlib",
      "model_module_version": "^0.7.4",
      "model_name": "ToolbarModel",
      "state": {
       "layout": "IPY_MODEL_0851770ce35c4f80ab817de77d601b5b",
       "toolitems": [
        [
         "Home",
         "Reset original view",
         "home",
         "home"
        ],
        [
         "Back",
         "Back to previous view",
         "arrow-left",
         "back"
        ],
        [
         "Forward",
         "Forward to next view",
         "arrow-right",
         "forward"
        ],
        [
         "Pan",
         "Left button pans, Right button zooms\nx/y fixes axis, CTRL fixes aspect",
         "arrows",
         "pan"
        ],
        [
         "Zoom",
         "Zoom to rectangle\nx/y fixes axis, CTRL fixes aspect",
         "square-o",
         "zoom"
        ],
        [
         "Download",
         "Download plot",
         "floppy-o",
         "save_figure"
        ]
       ]
      }
     },
     "bd26e8ba3b544af0922d27bc0827cd34": {
      "model_module": "@jupyter-widgets/base",
      "model_module_version": "1.2.0",
      "model_name": "LayoutModel",
      "state": {}
     },
     "bd72186c557a4b37926e779b8027c7d1": {
      "model_module": "@jupyter-widgets/base",
      "model_module_version": "1.2.0",
      "model_name": "LayoutModel",
      "state": {}
     },
     "c0ea38d4febd411fa9ea42b7a54ce30c": {
      "model_module": "jupyter-matplotlib",
      "model_module_version": "^0.7.4",
      "model_name": "ToolbarModel",
      "state": {
       "layout": "IPY_MODEL_bd72186c557a4b37926e779b8027c7d1",
       "toolitems": [
        [
         "Home",
         "Reset original view",
         "home",
         "home"
        ],
        [
         "Back",
         "Back to previous view",
         "arrow-left",
         "back"
        ],
        [
         "Forward",
         "Forward to next view",
         "arrow-right",
         "forward"
        ],
        [
         "Pan",
         "Left button pans, Right button zooms\nx/y fixes axis, CTRL fixes aspect",
         "arrows",
         "pan"
        ],
        [
         "Zoom",
         "Zoom to rectangle\nx/y fixes axis, CTRL fixes aspect",
         "square-o",
         "zoom"
        ],
        [
         "Download",
         "Download plot",
         "floppy-o",
         "save_figure"
        ]
       ]
      }
     },
     "c74d9ce18d0f4d57b85504897a5a1238": {
      "model_module": "jupyter-matplotlib",
      "model_module_version": "^0.7.4",
      "model_name": "ToolbarModel",
      "state": {
       "layout": "IPY_MODEL_03eef9172f0e4cb58c7092b5f1742ee3",
       "toolitems": [
        [
         "Home",
         "Reset original view",
         "home",
         "home"
        ],
        [
         "Back",
         "Back to previous view",
         "arrow-left",
         "back"
        ],
        [
         "Forward",
         "Forward to next view",
         "arrow-right",
         "forward"
        ],
        [
         "Pan",
         "Left button pans, Right button zooms\nx/y fixes axis, CTRL fixes aspect",
         "arrows",
         "pan"
        ],
        [
         "Zoom",
         "Zoom to rectangle\nx/y fixes axis, CTRL fixes aspect",
         "square-o",
         "zoom"
        ],
        [
         "Download",
         "Download plot",
         "floppy-o",
         "save_figure"
        ]
       ]
      }
     },
     "d278d3236bc94dbabe4f6991be557aa9": {
      "model_module": "@jupyter-widgets/base",
      "model_module_version": "1.2.0",
      "model_name": "LayoutModel",
      "state": {}
     },
     "df91ce21c64c420f887c2dc60b55a033": {
      "model_module": "jupyter-matplotlib",
      "model_module_version": "^0.7.4",
      "model_name": "ToolbarModel",
      "state": {
       "layout": "IPY_MODEL_ab0eb5767a524b2cbc73c76d9c0a38b2",
       "toolitems": [
        [
         "Home",
         "Reset original view",
         "home",
         "home"
        ],
        [
         "Back",
         "Back to previous view",
         "arrow-left",
         "back"
        ],
        [
         "Forward",
         "Forward to next view",
         "arrow-right",
         "forward"
        ],
        [
         "Pan",
         "Left button pans, Right button zooms\nx/y fixes axis, CTRL fixes aspect",
         "arrows",
         "pan"
        ],
        [
         "Zoom",
         "Zoom to rectangle\nx/y fixes axis, CTRL fixes aspect",
         "square-o",
         "zoom"
        ],
        [
         "Download",
         "Download plot",
         "floppy-o",
         "save_figure"
        ]
       ]
      }
     },
     "e1e409948b1b43c2948f630bfdb9ef0c": {
      "model_module": "@jupyter-widgets/base",
      "model_module_version": "1.2.0",
      "model_name": "LayoutModel",
      "state": {}
     },
     "ed6af642fd7044b1b352058ccd259131": {
      "model_module": "jupyter-matplotlib",
      "model_module_version": "^0.7.4",
      "model_name": "ToolbarModel",
      "state": {
       "layout": "IPY_MODEL_5220c317f26b4da9a242a463cb10311a",
       "toolitems": [
        [
         "Home",
         "Reset original view",
         "home",
         "home"
        ],
        [
         "Back",
         "Back to previous view",
         "arrow-left",
         "back"
        ],
        [
         "Forward",
         "Forward to next view",
         "arrow-right",
         "forward"
        ],
        [
         "Pan",
         "Left button pans, Right button zooms\nx/y fixes axis, CTRL fixes aspect",
         "arrows",
         "pan"
        ],
        [
         "Zoom",
         "Zoom to rectangle\nx/y fixes axis, CTRL fixes aspect",
         "square-o",
         "zoom"
        ],
        [
         "Download",
         "Download plot",
         "floppy-o",
         "save_figure"
        ]
       ]
      }
     },
     "f171ba25091342d9aef83af6ffb8097c": {
      "model_module": "jupyter-matplotlib",
      "model_module_version": "^0.7.4",
      "model_name": "ToolbarModel",
      "state": {
       "layout": "IPY_MODEL_d278d3236bc94dbabe4f6991be557aa9",
       "toolitems": [
        [
         "Home",
         "Reset original view",
         "home",
         "home"
        ],
        [
         "Back",
         "Back to previous view",
         "arrow-left",
         "back"
        ],
        [
         "Forward",
         "Forward to next view",
         "arrow-right",
         "forward"
        ],
        [
         "Pan",
         "Left button pans, Right button zooms\nx/y fixes axis, CTRL fixes aspect",
         "arrows",
         "pan"
        ],
        [
         "Zoom",
         "Zoom to rectangle\nx/y fixes axis, CTRL fixes aspect",
         "square-o",
         "zoom"
        ],
        [
         "Download",
         "Download plot",
         "floppy-o",
         "save_figure"
        ]
       ]
      }
     },
     "f29ec1654d0d4ed28dc7a9d23f9b3823": {
      "model_module": "@jupyter-widgets/base",
      "model_module_version": "1.2.0",
      "model_name": "LayoutModel",
      "state": {}
     },
     "f83d45afa6084670903c22d80d56a2a3": {
      "model_module": "jupyter-matplotlib",
      "model_module_version": "^0.7.4",
      "model_name": "ToolbarModel",
      "state": {
       "layout": "IPY_MODEL_4e332b845a2a49369bb4fbf55e76811f",
       "toolitems": [
        [
         "Home",
         "Reset original view",
         "home",
         "home"
        ],
        [
         "Back",
         "Back to previous view",
         "arrow-left",
         "back"
        ],
        [
         "Forward",
         "Forward to next view",
         "arrow-right",
         "forward"
        ],
        [
         "Pan",
         "Left button pans, Right button zooms\nx/y fixes axis, CTRL fixes aspect",
         "arrows",
         "pan"
        ],
        [
         "Zoom",
         "Zoom to rectangle\nx/y fixes axis, CTRL fixes aspect",
         "square-o",
         "zoom"
        ],
        [
         "Download",
         "Download plot",
         "floppy-o",
         "save_figure"
        ]
       ]
      }
     }
    },
    "version_major": 2,
    "version_minor": 0
   }
  }
 },
 "nbformat": 4,
 "nbformat_minor": 4
}
