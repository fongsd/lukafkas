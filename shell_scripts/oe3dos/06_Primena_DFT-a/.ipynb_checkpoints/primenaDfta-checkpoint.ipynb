{
 "cells": [
  {
   "cell_type": "markdown",
   "metadata": {},
   "source": [
    "# Primena diskretne Furijeove transformacije\n",
    "\n",
    "[<span style=\"font-size:1.2em;\"><b>Digitalna obrada signala</b></span>](http://tnt.etf.rs/~oe3dos)<span style=\"font-size:1.2em;\">, Vladimir Petrović</span>\n",
    "\n",
    "U ovom _notebook_-u ćemo primeniti DFT u izračunavanju konvolucije dva signala i u dodatnim primerima frekvencijske analize signala."
   ]
  },
  {
   "cell_type": "code",
   "execution_count": null,
   "metadata": {},
   "outputs": [],
   "source": [
    "USE_WIDGETS = True\n",
    "\n",
    "def importEssentialLibs(USE_WIDGETS):\n",
    "    import numpy as np\n",
    "    if USE_WIDGETS:\n",
    "        %matplotlib widget\n",
    "    else:\n",
    "        %matplotlib inline\n",
    "    import matplotlib as mpl\n",
    "    mpl.rc('text', usetex = True)\n",
    "    mpl.rc('font', family = 'serif', size = 18)\n",
    "    import matplotlib.pyplot as plt\n",
    "    import scipy.signal as signal\n",
    "    \n",
    "    return np, mpl, plt, signal"
   ]
  },
  {
   "cell_type": "markdown",
   "metadata": {},
   "source": [
    "## Brzo izračunavanje konvolucije\n",
    "### Periodična konvolucija periodičnih signala\n",
    "Ranije smo videli da se konvolucija aperiodičnih signala može izračunati odbirak po odbirak korišćenjem sume:\n",
    "\n",
    "$$\n",
    "y[n] = (x*h)[n] = \\sum_{m=-\\infty}^{+\\infty} x[m]h[n-m].\n",
    "$$\n",
    "\n",
    "Međutim, ovakva formulacija je neupotrebljiva za periodične signale jer je njihova dužina beskonačna, pa bi konvoluciona suma mogla da divergira. Zbog toga se za periodične signale definiše periodična konvolucija o kojoj će biti reči u ovom odeljku. \n",
    "\n",
    "Kod periodičnih signala $\\overset{\\sim}{x}[n]$ smo mogli lako definisati razvoj u Furijeov red:\n",
    "\n",
    "$$\n",
    "X[k] = \\frac{1}{N} \\sum_{n=n_0}^{n_0 + N - 1} \\overset{\\sim}{x}[n]e^{-j k \\Omega_0 n}. \n",
    "$$\n",
    "\n",
    "Neka je $X_1[k]$ Furijeov red signala $\\overset{\\sim}{x_1}[n]$ i $X_2[k]$ Furijeov red signala $\\overset{\\sim}{x_2}[n]$ i neka su signali $\\overset{\\sim}{x_1}[n]$ i $\\overset{\\sim}{x_2}[n]$ periodični sa istim osnovnim periodom. Neka je  $Y[k] = X_1[k]X_2[k]$ Furijeov red signala $\\overset{\\sim}{y}[n]$. Tada je signal $\\overset{\\sim}{y}[n]$:\n",
    "\n",
    "\\begin{align*}\n",
    "\\overset{\\sim}{y}[n] \n",
    "&= \\sum_{k=\\langle N \\rangle} X_1[k]X_2[k] e^{j k \\Omega_0 n} \\\\\n",
    "&= \\sum_{k=\\langle N \\rangle} \\left( \\frac{1}{N} \\sum_{m=n_0}^{n_0 + N - 1} \\overset{\\sim}{x_1}[m]e^{-j k \\Omega_0 m} \\right) X_2[k] e^{j k \\Omega_0 n} \\\\\n",
    "&= \\frac{1}{N} \\sum_{m=n_0}^{n_0 + N - 1} \\overset{\\sim}{x_1}[m] \\sum_{k=\\langle N \\rangle} X_2[k] e^{j k \\Omega_0 (n-m)} \\\\\n",
    "&= \\frac{1}{N} \\sum_{m=n_0}^{n_0 + N - 1} \\overset{\\sim}{x_1}[m] \\overset{\\sim}{x_2}[n-m]\n",
    "\\end{align*}\n",
    "\n",
    "Izraz $\\sum_{m=n_0}^{n_0 + N - 1} \\overset{\\sim}{x_1}[m] \\overset{\\sim}{x_2}[n-m]$ nazivamo periodičnom konvolucijom. Iz prethodne analize zaključujemo da periodičnoj konvoluciji dva signala u vremenskom domenu odgovara proizvod koeficijenata Furijeovog reda pomnožen periodom $N$.\n"
   ]
  },
  {
   "cell_type": "markdown",
   "metadata": {},
   "source": [
    "### Cirkularna konvolucija\n",
    "\n",
    "Ranije smo videli da su koeficijenti diskretne Furijeove transformacije signala $x[n]$ isti kao i koeficijenti Furijeovog reda periodičnog produženja signala $x[n]$, $x_p[n]$, samo pomnoženi periodom $N$. Ovo navodi na zaključak i da će proizvod DFT koeficijenata dva signala dati nešto slično periodičnoj konvoluciji periodičnih produženja ta dva signala u vremenskom domenu. Nađimo inverznu diskretnu Furijeovu transformaciju proizvoda koeficijenata DFT-a dve sekvence:\n",
    "\n",
    "\\begin{align*}\n",
    "y[n] \n",
    "&= \\frac{1}{N} \\sum_{k=0}^{N-1} X_1[k]X_2[k] e^{j k \\frac{2\\pi}{N} n} \n",
    "= \\frac{1}{N} \\sum_{k=0}^{N-1} \\left(\\sum_{m=0}^{N-1} x_1[m]e^{-j k \\frac{2\\pi}{N} m} \\right)X_2[k] e^{j k \\frac{2\\pi}{N} n} \\\\\n",
    "&= \\frac{1}{N} \\sum_{m=0}^{N-1} x_1[m] \\sum_{k=0}^{N-1} X_2[k]  e^{j k \\frac{2\\pi}{N} (n-m)} \n",
    "= \\frac{1}{N} \\sum_{m=0}^{N-1} x_1[m] \\sum_{k=0}^{N-1} NX_{p2}[k]  e^{j k \\frac{2\\pi}{N} (n-m)} \\\\\n",
    "&= \\sum_{m=0}^{N-1} x_1[m] \\sum_{k=0}^{N-1} X_{p2}[k]  e^{j k \\frac{2\\pi}{N} (n-m)} \n",
    "= \\sum_{m=0}^{N-1} x_1[m] x_{p2}[n-m] = \\sum_{m=0}^{N-1} x_1[m] x_2\\langle n-m \\rangle_N\\\\\n",
    "\\end{align*}\n",
    "\n",
    "gde su sa $X_{p2}[k]$ označeni koeficijenti Furijeovog reda periodičnog produženja signala $x_2[n]$. Sa $x\\langle n-m \\rangle_N$ označen cirkularni pomeraj sekvence konačne dužine $x[n]$. Na jednom periodu, ovaj pomeraj je ekvivalentan linearnom pomeraju periodičnog produženja te sekvence. Izraz  $\\sum_{m=0}^{N - 1} x_1[m] x_2\\langle n-m \\rangle_N = x_1[n] \\otimes x_2[n]$ nazivamo __cirkularnom__ konvolucijom dva signala. "
   ]
  },
  {
   "cell_type": "markdown",
   "metadata": {},
   "source": [
    "### Linearna konvolucija uz pomoć DFT-a\n",
    "S obzirom na to da je diskretnu Furijeovu transformaciju moguće izračunati izuzetno brzo, postavlja se pitanje da li je moguće iskoristiti je za izračunavanje linearne konvolucije. Poznato je da će konvolucija dva signala u vremenskom domenu, u frekvencijskom domenu (Furijeovoj transformaciji) dati proizvod Furijeovih transformacija pojedinačnih signala:\n",
    "\n",
    "$$\n",
    "\\mathcal{F} \\left\\lbrace x[n] * h[n] \\right\\rbrace (e^{j \\Omega}) = X(e^{j \\Omega})H(e^{j \\Omega}).\n",
    "$$\n",
    "\n",
    "Posmatrajući ovaj izraz lako je zaključiti da je konvolucija dva signala\n",
    "$$\n",
    "x[n] * h[n] = \\mathcal{F}^{-1} \\left\\lbrace X(e^{j \\Omega})H(e^{j \\Omega})  \\right\\rbrace.\n",
    "$$\n",
    "\n",
    "Međutim, kao što smo videli, ovo ne važi za diskretnu Furijeovu transformaciju u opštem slučaju. Rezultat inverzne DFT proizvoda koeficijenata DFT-a dva signala je cirkularna konvolucija. DFT se može iskoristiti za izračunavanje linearne konvolucije samo onda ako je linearna konvolucija jednaka cirkularnoj. \n",
    "$$\n",
    "\\sum_{m=0}^{N - 1} x_1[m] x_2\\langle n-m \\rangle_N = x_1[n] \\otimes x_2[n] \\overset{?}{=} x_1[n] * x_2[n] = \\sum_{m=0}^{N - 1} x_1[m] x_2[n-m]\n",
    "$$\n",
    "\n",
    "Posmatrajući izraze za linearnu i cirkularnu konvoluciju možemo zaključiti da su oni jednaki samo onda kada proizvod dva signala od kojih je jedan cirkularno pomeren daje isti rezultat kao proizvod dva signala gde je jedan linearno pomeren. Ovo se može postići jedino dopunjavanjem nulama. Na kraju, postavlja se pitanje koliko je nula potrebno dopuniti. S obzirom na to da je dužina konvolucije $N_y = N_x + N_h - 1$, gde su $N_x$ i $N_h$ dužine signala koji se konvoluiraju, onda je jasno da broj koeficijenata DFT-a iz kojih se inverznom transformacijom dobija signal dužine $N_y$ mora biti baš $N_y$. Zbog toga se ulazne sekvence dopunjavaju nulama do dužine $N_y$.  "
   ]
  },
  {
   "cell_type": "code",
   "execution_count": null,
   "metadata": {},
   "outputs": [],
   "source": [
    "np, mpl, plt, signal = importEssentialLibs(USE_WIDGETS)\n",
    "import scipy.fft as fft\n",
    "import time\n",
    "\n",
    "doPlot = True\n",
    "Nx = 10 #100000\n",
    "Nh = 15 #150000\n",
    "# test it:\n",
    "# ramp signals\n",
    "x = np.exp(-0.05*np.linspace(1, Nx, Nx))\n",
    "h = signal.triang(Nh)\n",
    "\n",
    "# Calculate using DFT\n",
    "Ny = Nx + Nh - 1\n",
    "t = time.time()\n",
    "y = fft.ifft(fft.fft(x, Ny)*fft.fft(h, Ny)).real\n",
    "# We can use scipy built in function\n",
    "#y = signal.fftconvolve(x, h)\n",
    "print(f'Convolution using DFT, time passed: {time.time() - t} seconds.')\n",
    "\n",
    "if doPlot:\n",
    "    fig, ax = plt.subplots()\n",
    "    plt.stem(y)\n",
    "\n",
    "# calculate using signal.convolve\n",
    "t = time.time()\n",
    "ys = signal.convolve(x, h, method='direct')\n",
    "print(f'Convolution using direct method, time passed: {time.time() - t} seconds.')\n",
    "if doPlot:\n",
    "    fig, ax = plt.subplots()\n",
    "    plt.stem(ys)\n",
    "\n",
    "# compare results\n",
    "print(y - ys)"
   ]
  },
  {
   "cell_type": "markdown",
   "metadata": {},
   "source": [
    "## Frekvencijska analiza nestacionarnih signala\n",
    "Do sada smo frekvencijsku analizu radili nad signalima konačnog trajanja koji nisu menjali frekvencijske komponente u vremenu. Učitajmo jedan signal kod koga ovo nije slučaj i nacrtajmo spektar ovog signala."
   ]
  },
  {
   "cell_type": "code",
   "execution_count": null,
   "metadata": {},
   "outputs": [],
   "source": [
    "np, mpl, plt, signal = importEssentialLibs(USE_WIDGETS)\n",
    "import scipy.fft as fft\n",
    "import IPython\n",
    "from scipy.io import wavfile\n",
    "\n",
    "fs, x = wavfile.read(\"audio/skala.wav\")\n",
    "IPython.display.display(IPython.display.Audio(x, rate = fs))\n",
    "\n",
    "fMaxShow = 6000\n",
    "\n",
    "N = len(x)\n",
    "X = fft.fft(x)\n",
    "\n",
    "Nmax = fMaxShow*N//fs\n",
    "f = fs*np.arange(Nmax)/N\n",
    "\n",
    "# only part of the spectra\n",
    "X = X[:len(f)];\n",
    "\n",
    "fig = plt.figure(figsize = [6, 5])\n",
    "plt.plot(f, abs(X))\n",
    "plt.subplots_adjust(bottom=0.25, left=0.15)\n",
    "plt.xlabel(r'$f$ [Hz]')\n",
    "plt.ylabel(r'$|X[k]|$');\n"
   ]
  },
  {
   "cell_type": "markdown",
   "metadata": {},
   "source": [
    "Kao što vidimo, iz spektra se može malo šta zaključiti. Sve frekvencijske komponente su pomešane i nemoguće je razlučiti kada su pojedine frekvencijske komponente nastale i nestale. Zbog toga se u ovakvim primerima signal mora izdeliti na signale manjeg trajanja, a zatim ispitati frekvencijski sadržaj pojedinačnih delova. Na ovaj način se može dobiti onoliko vektora DFT-a koliko je delova signala. Ti vektori se mogu složiti u matricu, a onda se ta matrica može prikazati kao slika. Tako dobijena slika se naziva __spektrogram__. \n",
    "\n",
    "Spektrogram se lako može dobiti korišćenjem ugrađene funkcije iz paketa _Scipy_: [signal.spectrogram()](https://docs.scipy.org/doc/scipy/reference/generated/scipy.signal.spectrogram.html). Ova funkcija vraća podatke o vremenskim trenucima, učestanostima i vrednostima spektra u tim vremenskim trenucima i na tim učestanostima. Da bi se spektrogram prikazao, najjednostavnije je koristiti funkciju [pcolormesh()](https://matplotlib.org/3.1.1/api/_as_gen/matplotlib.pyplot.pcolormesh.html). Međutim ova funkcija može da bude izuzetno spora ako se koristi za crtanje velikih matrica. Kao obilazno rešenje se može koristiti funkcija [matshow()](https://matplotlib.org/3.3.3/api/_as_gen/matplotlib.pyplot.matshow.html) ili [imshow()](https://matplotlib.org/3.3.3/api/_as_gen/matplotlib.pyplot.imshow.html). Ove funkcije su malo komplikovanije za korišćenje kada se koriste za crtanje spektrograma. Zbog toga se posle crtanja spektra mora podesiti odnos širine i visine slike. U narednim primerima se za to koristi funkcija ```forceAspect()``` definisana u narednoj ćeliji. Prilikom pozivanja funkcija ```matshow()``` ili ```imshow()``` moraju definisati ključne tačke za obeležavanje osa. To se postiže podešavanjem parametra ```extent```. Takođe, podrazumevano je da je koordinatni početak u gornjem levom uglu, s obzirom na to da se ove funkcije najčešće koriste za prikaz slika. Ako želimo da koordinatni početak bude u donjem levom uglu, moramo podesiti i parametar ```origin``` na vrednost ```'lower'```. "
   ]
  },
  {
   "cell_type": "code",
   "execution_count": null,
   "metadata": {},
   "outputs": [],
   "source": [
    "def forceAspect(ax, aspect=1):\n",
    "    im = ax.get_images()\n",
    "    extent =  im[0].get_extent()\n",
    "    ax.set_aspect(abs((extent[1]-extent[0])/(extent[3]-extent[2]))/aspect)"
   ]
  },
  {
   "cell_type": "markdown",
   "metadata": {},
   "source": [
    "Nacrtajmo sada spektrogram signala iz prethodnog primera."
   ]
  },
  {
   "cell_type": "code",
   "execution_count": null,
   "metadata": {},
   "outputs": [],
   "source": [
    "np, mpl, plt, signal = importEssentialLibs(USE_WIDGETS)\n",
    "import scipy.fft as fft\n",
    "import IPython\n",
    "from scipy.io import wavfile\n",
    "\n",
    "fs, x = wavfile.read(\"audio/skala.wav\")\n",
    "IPython.display.display(IPython.display.Audio(x, rate = fs))\n",
    "\n",
    "t = np.arange(len(x))/fs\n",
    "fig, axs = plt.subplots(2, 1, figsize = [10,10], sharex=True)\n",
    "plt.subplots_adjust(bottom=0.25, hspace = 0.4)\n",
    "axs[0].plot(t, x)\n",
    "axs[0].set_xlabel('$t$ [s]')\n",
    "axs[0].set_ylabel('$x(t)$')\n",
    "axs[0].set_xlim([0, max(t)])\n",
    "\n",
    "fMaxShow = 2000\n",
    "\n",
    "Nwin = 1024*4;#Try *1, *16;\n",
    "window = signal.boxcar(Nwin) #Try hamming\n",
    "NFFT = Nwin\n",
    "\n",
    "f, t, Sxx = signal.spectrogram(x, fs = fs, window=window, noverlap=Nwin//4, nfft=NFFT, return_onesided=True, \n",
    "                               scaling='spectrum', mode='complex')\n",
    "fMaxIndex = NFFT*fMaxShow//fs\n",
    "\n",
    "# Za crtanje spektrograma koristimo pclormesh ili matshow u kombinaciji sa forceAspect, treba otkomentarisati jednu od sledeće tri opcije\n",
    "\n",
    "#axs[1].pcolormesh(t, f[:fMaxIndex], 20*np.log10(abs(Sxx[:][:fMaxIndex])), shading = 'nearest')# try shading='gouraud')\n",
    "\n",
    "axs[1].matshow(20*np.log10(abs(Sxx[:][:fMaxIndex])), extent=[min(t), max(t), min(f), fMaxShow], origin='lower')\n",
    "forceAspect(axs[1], 3)\n",
    "\n",
    "# Dodatno, možemo obrnuti smer y ose ako u vektoru extent zamenimo učestanosti i parametru origin ne postavimo vrednost na 'lower'\n",
    "#axs[1].matshow(20*np.log10(abs(Sxx[:][:fMaxIndex])), extent=[min(t), max(t), fMaxShow, min(f)])\n",
    "#forceAspect(axs[1], 3)\n",
    "\n",
    "# Obeležavanje osa\n",
    "axs[1].set_xlabel('$t$ [s]')\n",
    "axs[1].set_ylabel('$f$ [Hz]');"
   ]
  },
  {
   "cell_type": "markdown",
   "metadata": {},
   "source": [
    "Primećujemo da je sada moguće uočiti da tonovi muzičkog signala postaju sve viši i viši do sredine trajanja signala, a zatim postaju sve niži i niži. Pokažimo još jedan primer, ovoga puta govornog signala:"
   ]
  },
  {
   "cell_type": "code",
   "execution_count": null,
   "metadata": {},
   "outputs": [],
   "source": [
    "np, mpl, plt, signal = importEssentialLibs(USE_WIDGETS)\n",
    "import scipy.fft as fft\n",
    "import IPython\n",
    "from scipy.io import wavfile\n",
    "\n",
    "fs, x = wavfile.read(\"audio/govor_elektronika.wav\")\n",
    "IPython.display.display(IPython.display.Audio(x, rate = fs))\n",
    "\n",
    "t = np.arange(len(x))/fs\n",
    "fig, axs = plt.subplots(2, 1, figsize = [10, 8], sharex=True)\n",
    "plt.subplots_adjust(bottom=0.25, hspace = 0.4)\n",
    "axs[0].plot(t, x)\n",
    "axs[0].set_xlabel('$t$ [s]')\n",
    "axs[0].set_ylabel('$x(t)$')\n",
    "axs[0].set_xlim([0, max(t)])\n",
    "\n",
    "fMaxShow = 2000\n",
    "\n",
    "NFFT = 1024\n",
    "Nwin = 256\n",
    "window = signal.hamming(Nwin, sym = False)\n",
    "\n",
    "f, t, Sxx = signal.spectrogram(x, fs = fs, window=window, noverlap=Nwin//2, nfft=NFFT, return_onesided=True, \n",
    "                               scaling='spectrum', mode='complex')\n",
    "fMaxIndex = NFFT*fMaxShow//fs\n",
    "#axs[1].pcolormesh(t, f[:fMaxIndex], abs(Sxx[:][:fMaxIndex]), cmap = 'inferno', shading = 'nearest');\n",
    "axs[1].imshow(abs(Sxx[:][:fMaxIndex]), extent=[min(t), max(t), min(f), fMaxShow], origin = 'lower', cmap = 'inferno')\n",
    "forceAspect(axs[1], 3.5)\n",
    "axs[1].set_xlabel('$t$ [s]')\n",
    "axs[1].set_ylabel('$f$ [Hz]');\n"
   ]
  },
  {
   "cell_type": "markdown",
   "metadata": {},
   "source": [
    "Više o različitim mapama boja možete naći [ovde](https://matplotlib.org/tutorials/colors/colormaps.html)."
   ]
  },
  {
   "cell_type": "code",
   "execution_count": null,
   "metadata": {},
   "outputs": [],
   "source": []
  }
 ],
 "metadata": {
  "kernelspec": {
   "display_name": "Python 3",
   "language": "python",
   "name": "python3"
  },
  "language_info": {
   "codemirror_mode": {
    "name": "ipython",
    "version": 3
   },
   "file_extension": ".py",
   "mimetype": "text/x-python",
   "name": "python",
   "nbconvert_exporter": "python",
   "pygments_lexer": "ipython3",
   "version": "3.6.9"
  }
 },
 "nbformat": 4,
 "nbformat_minor": 4
}
