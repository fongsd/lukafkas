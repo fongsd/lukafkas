{
 "cells": [
  {
   "cell_type": "code",
   "execution_count": null,
   "metadata": {},
   "outputs": [],
   "source": [
    "USE_WIDGETS = True\n",
    "\n",
    "import numpy as np\n",
    "if USE_WIDGETS:\n",
    "    %matplotlib widget\n",
    "else:\n",
    "    %matplotlib inline\n",
    "import matplotlib as mpl\n",
    "mpl.rc('text', usetex = True)\n",
    "mpl.rc('font', family = 'serif', size = 18)\n",
    "import matplotlib.pyplot as plt\n",
    "import pickle\n",
    "import scipy.signal as signal\n",
    "import scipy.io as sio"
   ]
  },
  {
   "cell_type": "markdown",
   "metadata": {},
   "source": [
    "Ukoliko studenti nemaju instaliran paket ```pickle```, mogu ga instalirati izvršavanjem naredne ćelije:"
   ]
  },
  {
   "cell_type": "code",
   "execution_count": null,
   "metadata": {},
   "outputs": [],
   "source": [
    "pip install pypickle"
   ]
  },
  {
   "cell_type": "markdown",
   "metadata": {},
   "source": [
    "Učitavanje impulsnog odziva filtra za signal sa ptičicama:"
   ]
  },
  {
   "cell_type": "code",
   "execution_count": null,
   "metadata": {},
   "outputs": [],
   "source": [
    "hBirds = pickle.load(open('dz1_signali/impulse_response_birds.pkl', 'rb'))\n",
    "fig = plt.figure()\n",
    "plt.stem(hBirds)"
   ]
  },
  {
   "cell_type": "markdown",
   "metadata": {},
   "source": [
    "Primer traženja indeksa lokalnih maksimuma u sortiranom redosledu:"
   ]
  },
  {
   "cell_type": "code",
   "execution_count": null,
   "metadata": {},
   "outputs": [],
   "source": [
    "n = np.arange(100)\n",
    "# neki niz\n",
    "a = np.sin(2*np.pi*1/10*n)*(np.exp(-0.1*n) + 0.5 - np.exp(-0.02*n)) \n",
    "fig = plt.figure()\n",
    "plt.plot(a)\n",
    "\n",
    "# svi lokalni maksimumi\n",
    "peaksPos = signal.argrelextrema(a, np.greater) \n",
    "peaksPos = peaksPos[0]\n",
    "# indeksi lokalnih maksimuma koji su najveci\n",
    "# znak \"-\" stoji da bi se dobili indeksi u opadajucem redosledu - prvi u nizu odgovaraju maksimalnim vrednostima\n",
    "maxPeaksPos = np.argsort(-a[peaksPos]) \n",
    "# indeksi maksimalnih vrednosti u originalnom nizu u opadajucem redosledu\n",
    "maxPeakIndex = peaksPos[maxPeaksPos]\n",
    "print(maxPeakIndex)"
   ]
  },
  {
   "cell_type": "code",
   "execution_count": null,
   "metadata": {},
   "outputs": [],
   "source": []
  }
 ],
 "metadata": {
  "kernelspec": {
   "display_name": "Python 3",
   "language": "python",
   "name": "python3"
  },
  "language_info": {
   "codemirror_mode": {
    "name": "ipython",
    "version": 3
   },
   "file_extension": ".py",
   "mimetype": "text/x-python",
   "name": "python",
   "nbconvert_exporter": "python",
   "pygments_lexer": "ipython3",
   "version": "3.6.9"
  }
 },
 "nbformat": 4,
 "nbformat_minor": 4
}
